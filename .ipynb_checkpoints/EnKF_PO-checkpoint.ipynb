{
 "cells": [
  {
   "cell_type": "markdown",
   "id": "96c68336-2a3b-4f63-b9aa-a005ecbd1155",
   "metadata": {},
   "source": [
    "# EnKF with perturbed observations\n",
    "This notebook executes a perturbed observation EnKF using Lorenz-96 dynamics"
   ]
  },
  {
   "cell_type": "markdown",
   "id": "069570dc-7330-40d1-8852-05d49225bfc6",
   "metadata": {},
   "source": [
    "Lorenz-96 is a system of ODEs the evolve according to \n",
    "\n",
    "$$\n",
    "\\frac{dx_i}{dt} = (x_{i+1}-x_{i-1})x_{i-1}-x_i + F\n",
    "$$"
   ]
  },
  {
   "cell_type": "markdown",
   "id": "e86aacd5-26cc-491b-8a1b-c651b66b0dd2",
   "metadata": {},
   "source": [
    "where we assume periodicity $x_{-1} = x_{N-1}, x_0 = x_N, x_{N+1} = x_1$. Setting F = 8 leads to chaotic behavior"
   ]
  },
  {
   "cell_type": "code",
   "execution_count": null,
   "id": "58e02178-a4ad-48bc-b55b-bf1c65f68723",
   "metadata": {},
   "outputs": [],
   "source": []
  }
 ],
 "metadata": {
  "kernelspec": {
   "display_name": "Python 3 (ipykernel)",
   "language": "python",
   "name": "python3"
  },
  "language_info": {
   "codemirror_mode": {
    "name": "ipython",
    "version": 3
   },
   "file_extension": ".py",
   "mimetype": "text/x-python",
   "name": "python",
   "nbconvert_exporter": "python",
   "pygments_lexer": "ipython3",
   "version": "3.13.2"
  }
 },
 "nbformat": 4,
 "nbformat_minor": 5
}
